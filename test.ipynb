{
 "cells": [
  {
   "cell_type": "markdown",
   "metadata": {},
   "source": [
    "Starter.py content"
   ]
  },
  {
   "cell_type": "code",
   "execution_count": 20,
   "metadata": {
    "collapsed": true
   },
   "outputs": [],
   "source": [
    "import sys\n",
    "\n",
    "import pylab as plb\n",
    "import numpy as np\n",
    "import mountaincar"
   ]
  },
  {
   "cell_type": "code",
   "execution_count": 21,
   "metadata": {
    "collapsed": true
   },
   "outputs": [],
   "source": [
    "# FROM Project 1!\n",
    "\n",
    "# To calculate the gaussian\n",
    "def gauss(x,p):\n",
    "    \"\"\"Return the gauss function N(x), with mean p[0] and std p[1].\n",
    "    Normalized such that N(x=p[0]) = 1.\n",
    "    \"\"\"\n",
    "    return np.exp((-(x - p[0])**2) / (2 * p[1]**2))\n",
    "\n",
    "# To calculate the distance between two vectors\n",
    "def distance(vec1,vec2):\n",
    "    assert np.shape(vec1)==np.shape(vec2)\n",
    "    #print(\"   Distance between\",vec1,\"and\",vec2)\n",
    "    term1 = np.power(vec1-vec2,2)\n",
    "    #print(\"      term1 :\",term1)\n",
    "    term2 = np.sqrt(np.sum(term1,axis=1))\n",
    "    #print(\"      term2 :\",term2)\n",
    "    return term2\n",
    "\n",
    "# To assign data to the closest center\n",
    "def assign_cluster(centers, datas):\n",
    "    #initialization\n",
    "    cluster_assignment = np.zeros(np.shape(datas)[0]) - 1\n",
    "    current_c = np.tile(centers[0], (np.shape(datas)[0],1))\n",
    "    eucl_distance = distance(current_c,datas)\n",
    "    min_distance = np.copy(eucl_distance)\n",
    "    #find cluster for each entry in datas\n",
    "    for i in range(0,np.shape(centers)[0]):\n",
    "        #print(\"Center is : \",centers[i], \"iteration : \",i)\n",
    "        current_c = np.tile(centers[i], (np.shape(datas)[0],1))\n",
    "        eucl_distance = distance(current_c,datas)\n",
    "        #print(\"   MD :\",min_distance)\n",
    "        #print(\"   ED :\",eucl_distance)\n",
    "        bool_distance = eucl_distance <= min_distance\n",
    "        #print(\"   BD :\",bool_distance)\n",
    "        min_distance = eucl_distance*(bool_distance) + min_distance*(1 - bool_distance)\n",
    "        #print(\"   MD :\",min_distance)        \n",
    "        cluster_assignment = cluster_assignment*(1 - bool_distance) + i*bool_distance\n",
    "        #print(\"   CA :\",cluster_assignment)\n",
    "    return cluster_assignment"
   ]
  },
  {
   "cell_type": "code",
   "execution_count": 96,
   "metadata": {
    "collapsed": false
   },
   "outputs": [],
   "source": [
    "class DummyAgent():\n",
    "    \"\"\"A not so good agent for the mountain-car task.\n",
    "    \"\"\"\n",
    "\n",
    "    def __init__(self, mountain_car = None, parameter1 = 3.0):\n",
    "        \n",
    "        if mountain_car is None:\n",
    "            self.mountain_car = mountaincar.MountainCar()\n",
    "        else:\n",
    "            self.mountain_car = mountain_car\n",
    "\n",
    "        self.parameter1 = parameter1\n",
    "\n",
    "    def visualize_trial(self, n_steps = 200):\n",
    "        \"\"\"Do a trial without learning, with display.\n",
    "\n",
    "        Parameters\n",
    "        ----------\n",
    "        n_steps -- number of steps to simulate for\n",
    "        \"\"\"\n",
    "        \n",
    "        # prepare for the visualization\n",
    "        plb.ion()\n",
    "        mv = mountaincar.MountainCarViewer(self.mountain_car)\n",
    "        mv.create_figure(n_steps, n_steps)\n",
    "        plb.draw()\n",
    "            \n",
    "        # make sure the mountain-car is reset\n",
    "        self.mountain_car.reset()\n",
    "\n",
    "        for n in range(n_steps):\n",
    "            print ('\\rt =', self.mountain_car.t,\n",
    "            sys.stdout.flush())\n",
    "            \n",
    "            # choose a random action\n",
    "            self.mountain_car.apply_force(np.random.randint(3) - 1)\n",
    "            # simulate the timestep\n",
    "            self.mountain_car.simulate_timesteps(100, 0.01) #MEANS simulation EVERY second of the state of the car !!!\n",
    "\n",
    "            # update the visualization\n",
    "            mv.update_figure()\n",
    "            plb.draw()            \n",
    "            \n",
    "            # check for rewards\n",
    "            if self.mountain_car.R > 0.0:\n",
    "                print (\"\\rreward obtained at t = \", self.mountain_car.t)\n",
    "                break\n",
    "\n",
    "\n",
    "    def learn(self):\n",
    "        # This is your job!\n",
    "        \n",
    "        # Implement Sarsa Lambda: Reinforcement Learning Algo\n",
    "        # TO DO: http://www.cse.unsw.edu.au/~cs9417ml/RL1/algorithms.html\n",
    "        #\n",
    "        # Initialize Q(s,a) arbitrarily\n",
    "        # Repeat (for each episode)\n",
    "        #   Initialize s\n",
    "        #   Choose a from s using policy derived from Q (e.g. Espylon greedy)\n",
    "        #   Repeat (for each step of episode)\n",
    "        #     Take action a, observe r, s'\n",
    "        #     Choose a' from s' using policy derived from Q (e.g. Epsylon greedy)\n",
    "        #     Q(s,a) <-- Q(s,a) + Alpha(r + Gamma*Q(s',a') - Q(s,a));\n",
    "        #     s <-- s';      a <-- a';\n",
    "        #   until s is terminal\n",
    "        \n",
    "        \n",
    "        #STEP 1 : Grid Creation ! Position, velocity and weights (initialized to zero) !\n",
    "        ################################################################################\n",
    "        # Initialization of the neuron grid size\n",
    "        x_min=-150;\n",
    "        x_max=30;\n",
    "        xPoint_min=-15;\n",
    "        xPoint_max=15;\n",
    "        r=np.zeros((1,nNeurons**2));\n",
    "        n_trials=10;\n",
    "        Actions=3; #Left, Right or None\n",
    "        \n",
    "        \n",
    "\n",
    "        # Number of Neurons\n",
    "        nNeurons=20;\n",
    "        dimNeurons=3; #position, velocity and weight\n",
    "\n",
    "        #Initialization of centers (first one of the tab is bottom left, and goes left to right an then down to top): bottom left to up right\n",
    "        pos=np.linspace(x_min,x_max,nNeurons);\n",
    "        pos=np.tile(pos,nNeurons);\n",
    "        vel=np.linspace(xPoint_min,xPoint_max,nNeurons);\n",
    "        vel=np.tile(vel,nNeurons);\n",
    "        vel=sorted(vel);\n",
    "\n",
    "        centers = np.ones((nNeurons**2, dimNeurons)); #DIM of centers --> 400x3\n",
    "        centers[:,0]=centers[:,0]*pos;\n",
    "        centers[:,1]=centers[:,1]*vel;\n",
    "        centers[:,2]=centers[:,2]*np.zeros((1,400));\n",
    "        \n",
    "        \n",
    "        sigma_x=abs(x_max-x_min)/nNeurons;\n",
    "        sigma_xPoint=abs(xPoint_max-xPoint_min)/nNeurons;\n",
    "        ################################################################################\n",
    "        \n",
    "        # Computing Activity\n",
    "        ################################################################################\n",
    "        for i in range(0,nNeurons**2):\n",
    "            \n",
    "               r[i]=np.exp(- pow(((centers[i,0]-mountain_car.x)/sigma_x),2) - pow(((centers[i,1]-mountain_car.x_d)/sigma_xPoint),2));\n",
    "\n",
    "\n",
    "        # Initializing weights to zero\n",
    "        w=np.zeros((1,nNeurons**2));\n",
    "        \n",
    "        #Initilizing Q(s,a) arbitrarily\n",
    "        Q=[[0 for t in range(0,nNeurons)] for r in range(0,nNeurons)];       \n",
    "        \n",
    "        # FOR (N Experiments):\n",
    "        for i in range(0,n_trials):\n",
    "            state=np.zeros((nNeurons,nNeurons)); # Dim of STATE: Pos X Vel\n",
    "            actions=np.zeros((1,Actions)); # Actions = 3 --> \"left\", \"right\", \"none\".\n",
    "            e=np.zeros((Actions, nNeurons, nNeurons)); # e depend of s and : Actions X Pos X Vel\n",
    "            \n",
    "\n",
    "                # Initializiing e, s and a to 0\n",
    "\n",
    "                # For each STEP: (of one experiment)\n",
    "\n",
    "                    # Calculate: Q(s,a)\n",
    "\n",
    "                    # Calculate: P(a*=a) to guess s' (the one with highest P will define if we go left, right or none)\n",
    "\n",
    "                    # Calculate: Q(s',a')\n",
    "\n",
    "                    # Calculate Delta and Eligibility\n",
    "\n",
    "                    # for all s,a:\n",
    "                    #    Q <- Q + alpha*Delta*Eligibility\n",
    "                    #    Eligibility <- Gamma*Lambda*Eligibility\n",
    "\n",
    "                    # weight <- weight + LR*Delta*Eligibility\n",
    "\n",
    "        \n",
    "        \"\"\"\n",
    "        Only three values of force are possible: \n",
    "            right (if direction > 0), \n",
    "            left (direction < 0) or\n",
    "            no force (direction = 0).\\\n",
    "            \n",
    "            Q is direction\n",
    "        \"\"\"\n",
    "        \n",
    "        #IDEA is to find the\n",
    "        # direction\n",
    "        # amplitude\n",
    "        # self.F = np.sign(direction) * self.force_amplitude\n",
    "                \n",
    "        pass"
   ]
  },
  {
   "cell_type": "code",
   "execution_count": 84,
   "metadata": {
    "collapsed": false
   },
   "outputs": [
    {
     "data": {
      "text/plain": [
       "400"
      ]
     },
     "execution_count": 84,
     "metadata": {},
     "output_type": "execute_result"
    }
   ],
   "source": [
    "mountain_car = mountaincar.MountainCar();\n",
    "\n",
    "#STEP 1 : Grid Creation ! Position, velocity and weights (initialized to zero) !\n",
    "################################################################################\n",
    "# Initialization of the neuron grid size\n",
    "x_min=-150;\n",
    "x_max=30;\n",
    "xPoint_min=-15;\n",
    "xPoint_max=15;\n",
    "r=np.zeros((nNeurons**2,1))\n",
    " \n",
    "# Number of Neurons\n",
    "nNeurons=20;\n",
    "dimNeurons=3; #position, velocity and weight\n",
    "\n",
    "#Initialization of centers (first one of the tab is bottom left, and goes left to right an then down to top): bottom left to up right\n",
    "pos=np.linspace(x_min,x_max,nNeurons);\n",
    "pos=np.tile(pos,nNeurons);\n",
    "vel=np.linspace(xPoint_min,xPoint_max,nNeurons);\n",
    "vel=np.tile(vel,nNeurons);\n",
    "vel=sorted(vel);\n",
    "\n",
    "centers = np.ones((nNeurons**2, dimNeurons)); #DIM of centers --> 400x3\n",
    "centers[:,0]=centers[:,0]*pos;\n",
    "centers[:,1]=centers[:,1]*vel;\n",
    "centers[:,2]=centers[:,2]*np.zeros((1,400));\n",
    "\n",
    "\n",
    "sigma_x=abs(x_max-x_min)/nNeurons;\n",
    "sigma_xPoint=abs(xPoint_max-xPoint_min)/nNeurons;\n",
    "################################################################################\n",
    "\n",
    "# Computing Activity\n",
    "################################################################################\n",
    "for i in range(0,nNeurons**2):\n",
    "       r[i]=np.exp(- pow(((centers[i,0]-mountain_car.x)/sigma_x),2) - pow(((centers[i,1]-mountain_car.x_d)/sigma_xPoint),2));\n",
    "\n"
   ]
  },
  {
   "cell_type": "code",
   "execution_count": 28,
   "metadata": {
    "collapsed": false
   },
   "outputs": [
    {
     "ename": "AttributeError",
     "evalue": "'MountainCar' object has no attribute 'h'",
     "output_type": "error",
     "traceback": [
      "\u001b[0;31m---------------------------------------------------------------------------\u001b[0m",
      "\u001b[0;31mAttributeError\u001b[0m                            Traceback (most recent call last)",
      "\u001b[0;32m<ipython-input-28-0ecc50623758>\u001b[0m in \u001b[0;36m<module>\u001b[0;34m()\u001b[0m\n\u001b[1;32m      1\u001b[0m \u001b[0md\u001b[0m \u001b[0;34m=\u001b[0m \u001b[0mDummyAgent\u001b[0m\u001b[0;34m(\u001b[0m\u001b[0;34m)\u001b[0m\u001b[0;34m;\u001b[0m\u001b[0;34m\u001b[0m\u001b[0m\n\u001b[1;32m      2\u001b[0m \u001b[0md\u001b[0m\u001b[0;34m.\u001b[0m\u001b[0mmountain_car\u001b[0m\u001b[0;34m\u001b[0m\u001b[0m\n\u001b[0;32m----> 3\u001b[0;31m \u001b[0mprint\u001b[0m\u001b[0;34m(\u001b[0m\u001b[0md\u001b[0m\u001b[0;34m.\u001b[0m\u001b[0mmountain_car\u001b[0m\u001b[0;34m.\u001b[0m\u001b[0mh\u001b[0m\u001b[0;34m)\u001b[0m\u001b[0;34m\u001b[0m\u001b[0m\n\u001b[0m\u001b[1;32m      4\u001b[0m \u001b[0md\u001b[0m\u001b[0;34m.\u001b[0m\u001b[0mvisualize_trial\u001b[0m\u001b[0;34m(\u001b[0m\u001b[0;34m)\u001b[0m\u001b[0;34m\u001b[0m\u001b[0m\n\u001b[1;32m      5\u001b[0m \u001b[0mplb\u001b[0m\u001b[0;34m.\u001b[0m\u001b[0mshow\u001b[0m\u001b[0;34m(\u001b[0m\u001b[0;34m)\u001b[0m\u001b[0;34m\u001b[0m\u001b[0m\n",
      "\u001b[0;31mAttributeError\u001b[0m: 'MountainCar' object has no attribute 'h'"
     ]
    }
   ],
   "source": [
    "d = DummyAgent();\n",
    "d.mountain_car\n",
    "print(d.mountain_car.h)\n",
    "d.visualize_trial()\n",
    "plb.show()"
   ]
  },
  {
   "cell_type": "markdown",
   "metadata": {},
   "source": [
    "##########################"
   ]
  },
  {
   "cell_type": "markdown",
   "metadata": {},
   "source": [
    "Sarsa Algo (below) from: https://github.com/studywolf/blog/blob/master/RL/SARSA%20vs%20Qlearn%20cliff/sarsa.py"
   ]
  },
  {
   "cell_type": "code",
   "execution_count": 5,
   "metadata": {
    "collapsed": true
   },
   "outputs": [],
   "source": [
    "import random\n",
    "\n",
    "\n",
    "class Sarsa:\n",
    "    def __init__(self, actions, epsilon=0.1, alpha=0.2, gamma=0.9):\n",
    "        self.q = {}\n",
    "\n",
    "        self.epsilon = epsilon\n",
    "        self.alpha = alpha\n",
    "        self.gamma = gamma\n",
    "        self.actions = actions\n",
    "\n",
    "    def getQ(self, state, action):\n",
    "        return self.q.get((state, action), 0.0)\n",
    "\n",
    "    def learnQ(self, state, action, reward, value):\n",
    "        oldv = self.q.get((state, action), None)\n",
    "        if oldv is None:\n",
    "            self.q[(state, action)] = reward \n",
    "        else:\n",
    "            self.q[(state, action)] = oldv + self.alpha * (value - oldv)\n",
    "\n",
    "    def chooseAction(self, state):\n",
    "        if random.random() < self.epsilon:\n",
    "            action = random.choice(self.actions)\n",
    "        else:\n",
    "            q = [self.getQ(state, a) for a in self.actions]\n",
    "            maxQ = max(q)\n",
    "            count = q.count(maxQ)\n",
    "            if count > 1:\n",
    "                best = [i for i in range(len(self.actions)) if q[i] == maxQ]\n",
    "                i = random.choice(best)\n",
    "            else:\n",
    "                i = q.index(maxQ)\n",
    "\n",
    "            action = self.actions[i]\n",
    "        return action\n",
    "\n",
    "    def learn(self, state1, action1, reward, state2, action2):\n",
    "        qnext = self.getQ(state2, action2)\n",
    "        self.learnQ(state1, action1, reward, reward + self.gamma * qnext)"
   ]
  },
  {
   "cell_type": "code",
   "execution_count": 6,
   "metadata": {
    "collapsed": false
   },
   "outputs": [
    {
     "data": {
      "text/plain": [
       "__main__.Sarsa"
      ]
     },
     "execution_count": 6,
     "metadata": {},
     "output_type": "execute_result"
    }
   ],
   "source": []
  },
  {
   "cell_type": "code",
   "execution_count": null,
   "metadata": {
    "collapsed": true
   },
   "outputs": [],
   "source": [
    "self.Q +=     \\\n",
    "                self.eta * self.e *\\\n",
    "                (self._reward()  \\\n",
    "                - ( self.Q[self.x_position_old,self.y_position_old,self.action_old] \\\n",
    "                - self.gamma * self.Q[self.x_position, self.y_position, self.action] )  )\n"
   ]
  },
  {
   "cell_type": "code",
   "execution_count": 95,
   "metadata": {
    "collapsed": false
   },
   "outputs": [
    {
     "data": {
      "text/plain": [
       "505"
      ]
     },
     "execution_count": 95,
     "metadata": {},
     "output_type": "execute_result"
    }
   ],
   "source": [
    "a=5;\n",
    "b=10;\n",
    "a+=\\\n",
    "    b*b*\\\n",
    "    a;\n",
    "    \n",
    "#a+=b*b*a;\n",
    "\n",
    "a"
   ]
  },
  {
   "cell_type": "code",
   "execution_count": null,
   "metadata": {
    "collapsed": true
   },
   "outputs": [],
   "source": []
  }
 ],
 "metadata": {
  "anaconda-cloud": {},
  "kernelspec": {
   "display_name": "Python [Root]",
   "language": "python",
   "name": "Python [Root]"
  },
  "language_info": {
   "codemirror_mode": {
    "name": "ipython",
    "version": 3
   },
   "file_extension": ".py",
   "mimetype": "text/x-python",
   "name": "python",
   "nbconvert_exporter": "python",
   "pygments_lexer": "ipython3",
   "version": "3.5.2"
  }
 },
 "nbformat": 4,
 "nbformat_minor": 0
}
